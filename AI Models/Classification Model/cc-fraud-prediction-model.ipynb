{
 "cells": [
  {
   "cell_type": "code",
   "execution_count": 8,
   "id": "a3ff0a0e-683d-4601-ab10-a52e8a6190ec",
   "metadata": {
    "tags": []
   },
   "outputs": [],
   "source": [
    "! pip3 install --upgrade --quiet google-cloud-aiplatform"
   ]
  },
  {
   "cell_type": "code",
   "execution_count": 4,
   "id": "fe352b87-f68f-45e2-a6d0-e78e0e1b4fdf",
   "metadata": {
    "tags": []
   },
   "outputs": [
    {
     "name": "stdout",
     "output_type": "stream",
     "text": [
      "Requirement already satisfied: pip in /opt/conda/lib/python3.10/site-packages (25.0)\n",
      "Collecting pip\n",
      "  Downloading pip-25.0.1-py3-none-any.whl.metadata (3.7 kB)\n",
      "Downloading pip-25.0.1-py3-none-any.whl (1.8 MB)\n",
      "\u001b[2K   \u001b[90m━━━━━━━━━━━━━━━━━━━━━━━━━━━━━━━━━━━━━━━━\u001b[0m \u001b[32m1.8/1.8 MB\u001b[0m \u001b[31m30.6 MB/s\u001b[0m eta \u001b[36m0:00:00\u001b[0m\n",
      "\u001b[?25hInstalling collected packages: pip\n",
      "  Attempting uninstall: pip\n",
      "    Found existing installation: pip 25.0\n",
      "    Uninstalling pip-25.0:\n",
      "      Successfully uninstalled pip-25.0\n",
      "Successfully installed pip-25.0.1\n",
      "Note: you may need to restart the kernel to use updated packages.\n"
     ]
    }
   ],
   "source": [
    "pip install --upgrade pip"
   ]
  },
  {
   "cell_type": "code",
   "execution_count": 9,
   "id": "a6c57ecf-2ab3-485b-9f73-adf544c64916",
   "metadata": {
    "tags": []
   },
   "outputs": [],
   "source": [
    "from google.cloud import aiplatform\n"
   ]
  },
  {
   "cell_type": "code",
   "execution_count": 16,
   "id": "7e24ed4b-08f8-48b7-b2e8-9491153f2a38",
   "metadata": {
    "tags": []
   },
   "outputs": [],
   "source": [
    "# these values should return a prediction of is fraud (class=1, and high percentage) for the response from model\n",
    "\n",
    "test_instance={\n",
    "  \"Amount\": \"0\",\n",
    "  \"Time\": \"406\",\n",
    "  \"V1\": \"-2.312226542\",\n",
    "  \"V2\": \"1.951992011\",\n",
    "  \"V3\": \"-1.609850732\",\n",
    "  \"V4\": \"3.997905588\",\n",
    "  \"V5\": \"-0.522187865\",\n",
    "  \"V6\": \"-1.426545319\",\n",
    "  \"V7\": \"-2.537387306\",\n",
    "  \"V8\": \"1.391657248\",\n",
    "  \"V9\": \"-2.770089277\",\n",
    "  \"V10\": \"-2.772272145\",\n",
    "  \"V11\": \"3.202033207\",\n",
    "  \"V12\": \"-2.899907388\",\n",
    "  \"V13\": \"-0.595221881\",\n",
    "  \"V14\": \"-4.289253782\",\n",
    "  \"V15\": \"0.38972412\",\n",
    "  \"V16\": \"-1.14074718\",\n",
    "  \"V17\": \"-2.830055675\",\n",
    "  \"V18\": \"-0.016822468\",\n",
    "  \"V19\": \"0.416955705\",\n",
    "  \"V20\": \"0.126910559\",\n",
    "  \"V21\": \"0.517232371\",\n",
    "  \"V22\": \"-0.035049369\",\n",
    "  \"V23\": \"-0.465211076\",\n",
    "  \"V24\": \"0.320198199\",\n",
    "  \"V25\": \"0.044519167\",\n",
    "  \"V26\": \"0.177839798\",\n",
    "  \"V27\": \"0.261145003\",\n",
    "  \"V28\": \"-0.143275875\"\n",
    "}\n"
   ]
  },
  {
   "cell_type": "code",
   "execution_count": 17,
   "id": "a3eef57e-2267-4a27-9282-a61be3cca76f",
   "metadata": {
    "tags": []
   },
   "outputs": [],
   "source": [
    "endpoint=aiplatform.Endpoint(endpoint_name='projects/1078716111239/locations/us-central1/endpoints/5541051520339935232')"
   ]
  },
  {
   "cell_type": "code",
   "execution_count": 18,
   "id": "1f7e0aa7-4e59-4bbd-96d3-b4d9edd7679a",
   "metadata": {
    "tags": []
   },
   "outputs": [
    {
     "data": {
      "text/plain": [
       "Prediction(predictions=[{'classes': ['0', '1'], 'scores': [0.01193076837807894, 0.9880692362785339]}], deployed_model_id='2922093987814703104', metadata=None, model_version_id='1', model_resource_name='projects/1078716111239/locations/us-central1/models/936727831772135424', explanations=None)"
      ]
     },
     "execution_count": 18,
     "metadata": {},
     "output_type": "execute_result"
    }
   ],
   "source": [
    "response=endpoint.predict([test_instance])\n",
    "response"
   ]
  },
  {
   "cell_type": "code",
   "execution_count": null,
   "id": "853dbff0-f458-4412-9997-7d03ad71a6c1",
   "metadata": {},
   "outputs": [],
   "source": []
  }
 ],
 "metadata": {
  "environment": {
   "kernel": "conda-base-py",
   "name": "workbench-notebooks.m128",
   "type": "gcloud",
   "uri": "us-docker.pkg.dev/deeplearning-platform-release/gcr.io/workbench-notebooks:m128"
  },
  "kernelspec": {
   "display_name": "Python 3 (ipykernel) (Local)",
   "language": "python",
   "name": "conda-base-py"
  },
  "language_info": {
   "codemirror_mode": {
    "name": "ipython",
    "version": 3
   },
   "file_extension": ".py",
   "mimetype": "text/x-python",
   "name": "python",
   "nbconvert_exporter": "python",
   "pygments_lexer": "ipython3",
   "version": "3.10.16"
  }
 },
 "nbformat": 4,
 "nbformat_minor": 5
}
