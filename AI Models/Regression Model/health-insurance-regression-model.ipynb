{
 "cells": [
  {
   "cell_type": "code",
   "execution_count": 1,
   "id": "a3ff0a0e-683d-4601-ab10-a52e8a6190ec",
   "metadata": {
    "tags": []
   },
   "outputs": [],
   "source": [
    "! pip3 install --upgrade --quiet google-cloud-aiplatform"
   ]
  },
  {
   "cell_type": "code",
   "execution_count": 2,
   "id": "fe352b87-f68f-45e2-a6d0-e78e0e1b4fdf",
   "metadata": {
    "tags": []
   },
   "outputs": [
    {
     "name": "stdout",
     "output_type": "stream",
     "text": [
      "Requirement already satisfied: pip in /opt/conda/lib/python3.10/site-packages (25.0.1)\n",
      "Note: you may need to restart the kernel to use updated packages.\n"
     ]
    }
   ],
   "source": [
    "pip install --upgrade pip"
   ]
  },
  {
   "cell_type": "code",
   "execution_count": 4,
   "id": "a6c57ecf-2ab3-485b-9f73-adf544c64916",
   "metadata": {
    "tags": []
   },
   "outputs": [],
   "source": [
    "from google.cloud import aiplatform\n"
   ]
  },
  {
   "cell_type": "code",
   "execution_count": 19,
   "id": "7e24ed4b-08f8-48b7-b2e8-9491153f2a38",
   "metadata": {
    "tags": []
   },
   "outputs": [],
   "source": [
    "# these values should return a prediction of is fraud (class=1, and high percentage) for the response from model\n",
    "\n",
    "test_instance={\n",
    "  \"age\": \"60\",\n",
    "  \"sex\": \"male\",\n",
    "  \"bmi\": \"30.4\",\n",
    "  \"children\": \"0\",\n",
    "  \"smoker\": \"no\",\n",
    "  \"region\": \"southeast\",\n",
    "}\n"
   ]
  },
  {
   "cell_type": "code",
   "execution_count": 20,
   "id": "a3eef57e-2267-4a27-9282-a61be3cca76f",
   "metadata": {
    "tags": []
   },
   "outputs": [],
   "source": [
    "endpoint=aiplatform.Endpoint(endpoint_name='projects/1078716111239/locations/us-central1/endpoints/3671107696934780928')"
   ]
  },
  {
   "cell_type": "code",
   "execution_count": 21,
   "id": "635deca9-00d5-41f3-b152-6ef31415266d",
   "metadata": {
    "tags": []
   },
   "outputs": [
    {
     "data": {
      "text/plain": [
       "Prediction(predictions=[{'value': 14329.892578125, 'lower_bound': 201.4501190185547, 'upper_bound': 1065.2705078125}], deployed_model_id='8282608997408702464', metadata=None, model_version_id='1', model_resource_name='projects/1078716111239/locations/us-central1/models/606399354416136192', explanations=None)"
      ]
     },
     "execution_count": 21,
     "metadata": {},
     "output_type": "execute_result"
    }
   ],
   "source": [
    "\n",
    "\n",
    "\n",
    "response=endpoint.predict([test_instance])\n",
    "response"
   ]
  },
  {
   "cell_type": "code",
   "execution_count": 22,
   "id": "e8a3ca6e-bc9c-442e-9f35-621bb840fa45",
   "metadata": {
    "tags": []
   },
   "outputs": [
    {
     "name": "stdout",
     "output_type": "stream",
     "text": [
      "Predicted Value for Insurance amount: 14329.892578125\n"
     ]
    }
   ],
   "source": [
    "# Extract the prediction dictionary from the list\n",
    "prediction = response.predictions[0]  # Access the first (and likely only) prediction\n",
    "\n",
    "# Extract the value, lower bound, and upper bound\n",
    "predicted_value = prediction['value']\n",
    "\n",
    "\n",
    "print(f\"Predicted Value for Insurance amount: {predicted_value}\")"
   ]
  },
  {
   "cell_type": "code",
   "execution_count": null,
   "id": "ee7dd833-b526-413d-9dd0-ce550c703b48",
   "metadata": {},
   "outputs": [],
   "source": []
  }
 ],
 "metadata": {
  "environment": {
   "kernel": "conda-base-py",
   "name": "workbench-notebooks.m128",
   "type": "gcloud",
   "uri": "us-docker.pkg.dev/deeplearning-platform-release/gcr.io/workbench-notebooks:m128"
  },
  "kernelspec": {
   "display_name": "Python 3 (ipykernel) (Local)",
   "language": "python",
   "name": "conda-base-py"
  },
  "language_info": {
   "codemirror_mode": {
    "name": "ipython",
    "version": 3
   },
   "file_extension": ".py",
   "mimetype": "text/x-python",
   "name": "python",
   "nbconvert_exporter": "python",
   "pygments_lexer": "ipython3",
   "version": "3.10.16"
  }
 },
 "nbformat": 4,
 "nbformat_minor": 5
}
